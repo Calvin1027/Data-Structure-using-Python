{
 "cells": [
  {
   "cell_type": "markdown",
   "id": "ac8e14a5-8501-42f0-a681-281d83e1b3d6",
   "metadata": {},
   "source": [
    "자료구조란 무엇인가→ 자료(data)를 효율적으로 관리하고자 하는 학문→ 효율적으로 관리한다는 것은 어떤 것인가?→ 자료의 특성을 고려한 정리 규칙을 수립해서 정리하는 것\n",
    "\n",
    "Ex.\n",
    "\n",
    "1. 접시를 쌓아서 관리하는 구조→스택\n",
    "2. 맛집의 줄서기 구조→ 큐\n",
    "3. 조직도→ 트리\n",
    "4. 지하철 노선도→ 그래프\n",
    "\n",
    "자료구조는 크게 선형 자료구조와 비선형 자료구조로 분류→ \n",
    "선형 자료구조= 리스트, 스택, 큐, 덱 \n",
    "비선형 자료구조= 트리, 그래프→ 자료구조는 추상 자료형으로 구현\n",
    "추상 자료형이란? 자료구조가 어떤 자료(What)를 다루고, 이들에 대해 어떤 연산(HOW)이 제공되는지를 기술하는 것\n",
    "---\n",
    "\n",
    "알고리즘이란?→ 어떤 문제를 해결하는 절차→ 어떤 문제를 해결할려면, 데이터가 잘 정리가 되어 있어야 가능\n",
    "→따라서 어떤 문제를 해결하는 프로그램→\n",
    "1. 자료가 잘 정리 되어야 하고(자료구조) 2. 효율적인 알고리즘 구축\n",
    "\n",
    "→ 어떤 알고리즘의 효율성은 어떻게 따질까?→ 1. 실행시간 2. 잡아먹는 메모리 2가지로 측정\n",
    "→ 최근엔, 메모리 기술이 많이 향상되어 메모리는 don’t care하고, 실행시간이 짧을수록 알고리즘 효율성이 높음→ \n",
    "실행시간은 어떻게 측정할까?→ 가장 쉽고 직관적인 방법은 직접 실행시간을 측정하는 것\n",
    "→하지만 시간으로 비교할려면, 동일한 하드웨어 및 소프트웨어에서 측정해야 하는 등 여러 제약조건이 존재→ \n",
    "그러면 구현하지 않고서도 효율성을 따져볼 수 있을까?→ 이때 등장하는 것이 복잡도 분석\n",
    "\n",
    "복잡도 분석→ 직접 구현하지 않고 알고리즘의 연산 횟수를 대략적으로 계산(연산자가 몇번 연산되는지를 따져서)예를 들어 1부터 n까지 더할려고 할때 2개의 방법이 가능→ 1. 반복분을 써서 1부터 n까지 더하기 2. 1부터 n까지의 합 공식 사용하기\n"
   ]
  },
  {
   "cell_type": "code",
   "execution_count": 3,
   "id": "e408f5e4-e1b9-414f-9bc8-c22b81006a5f",
   "metadata": {},
   "outputs": [
    {
     "name": "stdin",
     "output_type": "stream",
     "text": [
      "어디까지 더할지 n 설정 10\n"
     ]
    },
    {
     "name": "stdout",
     "output_type": "stream",
     "text": [
      "45\n"
     ]
    }
   ],
   "source": [
    "#1번째 방법\n",
    "x=int(input('어디까지 더할지 n 설정'))\n",
    "\n",
    "sum=0 #연산자 1회 수행\n",
    "\n",
    "for i in range(1,x):\n",
    "    sum +=i # + = 연산자가 각각 n번씩 총 2n번 연산\n",
    "\n",
    "print(sum)\n",
    "#→총 2n+1번 연산"
   ]
  },
  {
   "cell_type": "code",
   "execution_count": 4,
   "id": "e973c27a-ba3a-4747-8796-f2cc21acb5f4",
   "metadata": {},
   "outputs": [
    {
     "name": "stdin",
     "output_type": "stream",
     "text": [
      "어디까지 더할지 n 설정 10\n"
     ]
    },
    {
     "name": "stdout",
     "output_type": "stream",
     "text": [
      "55.0\n"
     ]
    }
   ],
   "source": [
    "#2번째 방법\n",
    "x=int(input('어디까지 더할지 n 설정'))\n",
    "sum=0 #연산자 1회 수행\n",
    "\n",
    "sum=x*(x+1)/2 # * + /가 각각 1회씩 총 3회 수행\n",
    "\n",
    "print(sum)\n",
    "#→ 총 4회 연산"
   ]
  },
  {
   "cell_type": "markdown",
   "id": "94f6bea5-75a8-47d9-bf78-20e1e86cd703",
   "metadata": {},
   "source": [
    "→ 연산자들의 실행 횟수는 n에 대한 함수 형태인 T(n)-복잡도 함수사용→ T(n=1)=2n+1, T(n=2)=4→\n",
    "n이 점점 커질수록 1번 방법보다 2번 방법이 훨씬 더 효율적이란 것을 알 수 있음\n",
    "\n",
    "특히 복잡도 함수는 함수의 극한 형태를 빌림→ \n",
    "Ex. T(n)=$8x^2+2n+17$일 경우 n이 무한대로 갈 때 2n과 17은 영향력 미미→ 이럴땐  $T(n)=8x^2$으로 점근적으로 표기"
   ]
  },
  {
   "cell_type": "markdown",
   "id": "da740d62-aacd-4d4a-86d2-9c3d7c68d365",
   "metadata": {},
   "source": [
    "Ex. 팩토리얼 기법→ $n!=n*(n-1)*(n-2)...*1 = n * (n-1)! = n* n-1 *(n-2)!$"
   ]
  },
  {
   "cell_type": "code",
   "execution_count": null,
   "id": "86fd563d-4c7f-40d7-8ec1-d89f7ae3f47d",
   "metadata": {},
   "outputs": [],
   "source": [
    "# Not Recursion\n",
    "\n",
    "def factorial(n):\n",
    "    result=1\n",
    "    for k in range(1,n+1):\n",
    "        result= result*k\n",
    "    return result\n",
    "\n",
    "num=int(input('n값 입력'))\n",
    "print(factorial(num))\n",
    "\n",
    "#Using Recursion\n",
    "\n",
    "def factorial(n):\n",
    "    if n==1:\n",
    "        return 1\n",
    "    else:\n",
    "        return n * factorial(n-1)"
   ]
  },
  {
   "cell_type": "markdown",
   "id": "c75a8fa6-046f-452b-9602-277c3c206b68",
   "metadata": {},
   "source": [
    "→ 언뜻 보기에도 Recursion을 사용하는 것이 더 코드가 효율적으로 보임→ 특히 Recursion은 이진 탐색이나 퀵 정렬 등 몇몇 알고리즘에서 매우 강력한 효과를 가짐"
   ]
  },
  {
   "cell_type": "markdown",
   "id": "0e0262af-bad4-410a-a752-0f2c8a2cdb9f",
   "metadata": {},
   "source": [
    "Ex. 1 하노이 탑\n",
    "\n",
    "→ 하노이 탑에 Recursion을 어케 사용할까?→ Recursion을 사용할려면, 함수를 호출할수록 문제의 크기가 줄어야 한다(위의 팩토리얼도 n! (n-1)!, (n-2)!로 점점 줄어듦)→ 문제의 크기를 n에서 어케 줄일까?\n",
    "\n",
    "1. A에서 (n-1)개 원판을 B로 옮긴다\n",
    "2. A에 남은 1개 원판을 C로 옮긴다\n",
    "3. B에 있는 (n-1)개 원판을 C로 옮긴다\n",
    "\n",
    "→ 2번은 그냥 1개만 옮기면 되니깐 상관 없음→ 문제는 1, 3번→ 1번의 경우 n-1개를 A에서 C라는 임시를 거쳐 B로 가기 때문에 문제의 크기가 n-1로 줄어든 Recursion→ 3번 역시 n-1개를 B에서 A라는 임시를 거쳐 C로 가기 때문에 문제의 크기가 n-1로 줄어든 Recursion"
   ]
  },
  {
   "cell_type": "code",
   "execution_count": null,
   "id": "81c98e2f-51af-4237-b226-8dac501c594b",
   "metadata": {},
   "outputs": [],
   "source": [
    "def hanoi(n, fr, help, to):\n",
    "    if n==1:\n",
    "        print(\"원판 1: %s --> %s\" %(fr,to))\n",
    "    else:\n",
    "        hanoi(n-1, fr, to, help)\n",
    "        print(\"원판 %d: %s --> %s\" %(n,fr,to))\n",
    "        hanoi(n-1,help, fr, to)\n",
    "\n",
    "num=int(input('하노이 원판 개수'))\n",
    "\n",
    "hanoi(num, 'A', 'B', 'C')"
   ]
  },
  {
   "cell_type": "markdown",
   "id": "99aa14f9-f096-4a7e-9ac2-fba6873e943d",
   "metadata": {},
   "source": [
    "Ex2. 피보나치 수열"
   ]
  },
  {
   "cell_type": "code",
   "execution_count": null,
   "id": "63c3e5b5-e596-48c3-835e-2ba0ea658ce8",
   "metadata": {},
   "outputs": [],
   "source": [
    "def fib(n):\n",
    "    if n<=0:\n",
    "        return 0\n",
    "    elif n==1:\n",
    "        return 1\n",
    "    else:\n",
    "        return fib(n-2) + fib(n-1)\n",
    "\n",
    "num=int(input('피보나치 수열 n'))\n",
    "fib(num)"
   ]
  },
  {
   "cell_type": "code",
   "execution_count": null,
   "id": "2d569ca3-9e23-4135-9f6e-1908fa260991",
   "metadata": {},
   "outputs": [],
   "source": []
  }
 ],
 "metadata": {
  "kernelspec": {
   "display_name": "Python 3 (ipykernel)",
   "language": "python",
   "name": "python3"
  },
  "language_info": {
   "codemirror_mode": {
    "name": "ipython",
    "version": 3
   },
   "file_extension": ".py",
   "mimetype": "text/x-python",
   "name": "python",
   "nbconvert_exporter": "python",
   "pygments_lexer": "ipython3",
   "version": "3.11.5"
  }
 },
 "nbformat": 4,
 "nbformat_minor": 5
}
