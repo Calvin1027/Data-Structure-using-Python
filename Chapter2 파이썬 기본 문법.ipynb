{
 "cells": [
  {
   "cell_type": "markdown",
   "id": "a74d6503-562d-4422-94e3-d053d784e433",
   "metadata": {},
   "source": [
    "파이썬=객체지향적 언어→ 여기서 객체를 만들어내는 틀이 클래스\n",
    "이런 클래스를 만들 땐 먼저 추상자료형(데이터와 연산)을 정의→ 이후 추상자료형의 데이터를 멤버변수(__init__) 연산을 멤버함수로..!"
   ]
  },
  {
   "cell_type": "code",
   "execution_count": null,
   "id": "5f6830a6-ea15-4b6f-b663-fc6ba28f9da0",
   "metadata": {},
   "outputs": [],
   "source": [
    "class Car:\n",
    "    def __init__(self,color,speed=0):\n",
    "        self.color=color\n",
    "        self.speed=speed\n",
    "\n",
    "    def speedup(self):\n",
    "        self.speed +=10\n",
    "\n",
    "    def speeddown(self):\n",
    "        self.speed -=10\n",
    "\n",
    "car1=Car('black',0)\n",
    "car2=Car('red',120)\n",
    "car3=Car('blue')"
   ]
  },
  {
   "cell_type": "markdown",
   "id": "73dae415-e46f-4b57-93f8-f1e23090ca40",
   "metadata": {},
   "source": [
    "상속(inheritance)\n",
    "\n",
    "간혹 기존의 클래스에 몇 가지 기능만 추가해서 새로운 클래스를 만들고 싶을때→ 새로운 클래스를 직접 정의하는건 귀찮다→ 이럴때 사용하는 기능이 상속\n",
    "\n",
    "상속을 할 때 주의할 점\n",
    "\n",
    "1. 상속시킬 때는 class 자식클래스(부모클래스)순으로 작성\n",
    "2. 상속을 해도 멤버변수는 부모, 자식 모두 선언해줘야 함\n",
    "3. super()→ 자식 클래스에서 부모 클래스를 부르는 함수→ 이를 통해 self.color=color등의 작업은 할 필요 X\n",
    "4. speedup함수는 부모 클래스에도 있었지만, 자식 클래스에선 거기에 bTurbo를 따로 추가→ 이처럼 부모에 이미 정의되어 있지만 자식 클래스에서 함수가 변경되어 재정의한 것 called overriding→ 즉, 부모와 자식 클래스에 같은 메소드가 다르게 정의된 것"
   ]
  },
  {
   "cell_type": "code",
   "execution_count": null,
   "id": "f7e2ff33-3500-49bf-b474-02a02c4e7108",
   "metadata": {},
   "outputs": [],
   "source": [
    "class Car:\n",
    "    def __init__(self,color,speed=0):\n",
    "        self.color= color\n",
    "        self.speed= speed \n",
    "        \n",
    "    def speedup(self):\n",
    "        self.speed +=10\n",
    "        \n",
    "    def speeddown(self):\n",
    "        self.speed -=10\n",
    "\n",
    "class Supercar(Car):\n",
    "\t\tdef __init__(self,color,bTurbo=True,speed=0):\n",
    "\t\t\t\tsuper().__init__(color,speed)\n",
    "\t\t\t\tself.bTurbo=bTurbo\n",
    "\n",
    "    def setTurbo(self,bTurbo=True):\n",
    "        self.bTurbo=bTurbo\n",
    "\n",
    "    def speedup(self):\n",
    "        if self.bTurbo:\n",
    "            self.speed +=50\n",
    "        else:\n",
    "            super().speedup()"
   ]
  },
  {
   "cell_type": "markdown",
   "id": "9e71b097-9509-4a76-860f-61292124eaf0",
   "metadata": {},
   "source": [
    "문제풀기 made by ChatGPT\n",
    "\n",
    "**1. 파이썬 클래스 만들기**\n",
    "\n",
    "**문제:**\n",
    "클래스 **`Person`**을 만들어보세요.\n",
    "이 클래스는 **`name`**, **`age`**, **`gender`** 속성을 가지며, **`greet()`** 메서드를 가지고 있어야 합니다.\n",
    "**`greet()`** 메서드는 \"Hello, my name is [name] and I am [age] years old.\"와 같은 인사말을 출력해야 합니다. \n",
    "그런 다음 **`Person`** 클래스를 인스턴스화하고 인사말을 출력해보세요."
   ]
  },
  {
   "cell_type": "code",
   "execution_count": null,
   "id": "1ec0152d-0d7e-47d6-9545-8e5daccaa17c",
   "metadata": {},
   "outputs": [],
   "source": [
    "class Person:\n",
    "    def __init__(self,name,age,gender):\n",
    "        self.name=name\n",
    "        self.age=age\n",
    "        self.gender=gender\n",
    "\n",
    "    def greet(self):\n",
    "        print(f'Hello, my name is {self.name} and I am {self.age} years old.')\n",
    "\n",
    "\n",
    "person1=Person('Calvin',25,'male')\n",
    "person2=Person('냠냠이',22,'female')\n",
    "\n",
    "person2.greet()"
   ]
  },
  {
   "cell_type": "markdown",
   "id": "23317876-d1b3-4101-a875-d062011b4d33",
   "metadata": {},
   "source": [
    "2. 연산자 Overloading 사용하기"
   ]
  },
  {
   "cell_type": "code",
   "execution_count": null,
   "id": "c3393f27-fb39-4504-9ee2-17a010d858f8",
   "metadata": {},
   "outputs": [],
   "source": [
    "class Person:\n",
    "    def __init__(self,name,age,gender):\n",
    "        self.name=name\n",
    "        self.age=age\n",
    "        self.gender=gender\n",
    "\n",
    "    def greet(self):\n",
    "        print(f'Hello, my name is {self.name} and I am {self.age} years old.')\n",
    "\n",
    "\n",
    "    def __add__(self, other):\n",
    "        if isinstance(other, Person):\n",
    "            return Person(f'{self.name} and {other.name}', self.age + other.age, self.gender)\n",
    "\n",
    "person1=Person('Calvin',25,'male')\n",
    "person2=Person('냠냠이',22,'female')\n",
    "\n",
    "person2.greet()\n",
    "\n",
    "add_person=person1+person2\n",
    "add_person.greet()"
   ]
  },
  {
   "cell_type": "markdown",
   "id": "f16d3e2b-bdd2-4154-84fd-79734d4299d7",
   "metadata": {},
   "source": [
    "3. 상속 기능을 이용한 부모 클래스와 자녀 클래스 만들기"
   ]
  },
  {
   "cell_type": "code",
   "execution_count": null,
   "id": "dd97c370-dd4b-4229-9c79-367838ff449d",
   "metadata": {},
   "outputs": [],
   "source": [
    "class Person:\n",
    "    def __init__(self,name,age,gender):\n",
    "        self.name=name\n",
    "        self.age=age\n",
    "        self.gender=gender\n",
    "\n",
    "    def greet(self):\n",
    "        print(f'Hello, my name is {self.name} and I am {self.age} years old.')\n",
    "\n",
    "\n",
    "    def __add__(self, other):\n",
    "        if isinstance(other, Person):\n",
    "            return Person(f'{self.name} and {other.name}', self.age + other.age, self.gender)\n",
    "\n",
    "\n",
    "class Employee(Person):\n",
    "    def __init__(self,name,age,gender,position):\n",
    "        super().__init__(name,age,gender)\n",
    "        self.position=position\n",
    "\n",
    "\n",
    "    def introduce(self):\n",
    "        print(f'I am Employee at Apple. and My position is {self.position}')\n",
    "\n",
    "person1=Person('Calvin',25,'male')\n",
    "person2=Person('냠냠이',22,'female')\n",
    "\n",
    "person2.greet()\n",
    "\n",
    "add_person=person1+person2\n",
    "add_person.greet()\n",
    "\n",
    "person3=Employee('Lee',23,'male','director')\n",
    "person3.introduce()"
   ]
  },
  {
   "cell_type": "markdown",
   "id": "775167a2-24c3-46ce-b4ee-91803f7ec60b",
   "metadata": {},
   "source": [
    "### **1번 문제: `Car` 클래스 만들기**\n",
    "\n",
    "1. **`Car`** 클래스를 만들어야 합니다.\n",
    "2. 이 클래스는 자동차의 브랜드, 모델, 연식, 가격 속성을 포함해야 합니다. 이 클래스의 **`__init__`** 메서드를 구현하여 이러한 속성을 초기화하세요."
   ]
  },
  {
   "cell_type": "code",
   "execution_count": null,
   "id": "31edc341-6b8f-42a4-808f-6c809e5fe547",
   "metadata": {},
   "outputs": [],
   "source": [
    "class Car:\n",
    "    def __init__(self,brand,model,year,price):\n",
    "        self.brand=brand\n",
    "        self.model=model\n",
    "        self.year=year\n",
    "        self.price=price\n",
    "\n",
    "\n",
    "car1=Car('현대','아이오닉6','2021년',3000)\n",
    "car2=Car('테슬라','모델 Y','2020',7000)"
   ]
  },
  {
   "cell_type": "markdown",
   "id": "77947213-25cb-44cc-968b-0fd67b2054fc",
   "metadata": {},
   "source": [
    "### **2번 문제: 연산자 Overloading**\n",
    "\n",
    "2번 문제에서는 **`Car`** 클래스에 대한 다양한 연산자 오버로딩을 추가해야 합니다. 다음과 같은 연산을 구현하세요.\n",
    "\n",
    "1. **`+`** 연산자를 사용하여 두 대의 자동차의 가격을 합치는 메서드를 추가하세요.\n",
    "2. **`>`** 연산자를 사용하여 두 대의 자동차의 가격을 비교하는 메서드를 추가하세요.\n",
    "3. **`==`** 연산자를 사용하여 두 대의 자동차의 브랜드가 같은지 비교하는 메서드를 추가하세요."
   ]
  },
  {
   "cell_type": "code",
   "execution_count": null,
   "id": "4d8f0a9e-a36d-4f36-9886-1ad640eb6fd0",
   "metadata": {},
   "outputs": [],
   "source": [
    "class Car:\n",
    "    def __init__(self,brand,model,year,price):\n",
    "        self.brand=brand\n",
    "        self.model=model\n",
    "        self.year=year\n",
    "        self.price=price\n",
    "\n",
    "    def add(self,other):\n",
    "        return self.price+other.price\n",
    "\n",
    "    def compare(self,other):\n",
    "        if self.price>other.price:\n",
    "            print(f'{self} is more expansive than {other}')\n",
    "        else:\n",
    "            print(f'{self} is less expansive than {other}')\n",
    "\n",
    "\n",
    "    def equal(self,other):\n",
    "        if self.brand==other.brand:\n",
    "            print(f'brands between {self} and {other} is equal')\n",
    "        else:\n",
    "            print(f'brands between {self} and {other} is not equal')\n",
    "\n",
    "\n",
    "\n",
    "car1=Car('현대','아이오닉6','2021년',3000)\n",
    "car2=Car('테슬라','모델 Y','2020',7000)\n",
    "\n",
    "\n",
    "print(car1.compare(car2))\n",
    "print(car1.equal(car2))"
   ]
  },
  {
   "cell_type": "code",
   "execution_count": null,
   "id": "0c43ef8c-2abd-47d3-9c36-e97027d6dcd0",
   "metadata": {},
   "outputs": [],
   "source": [
    "### **3번 문제: 상속**\n",
    "\n",
    "3번 문제에서는 **`Car`** 클래스를 상속하는 자녀 클래스인 **`ElectricCar`** 클래스를 만들어야 합니다.\n",
    "**`ElectricCar`** 클래스는 전기차의 추가 정보를 저장할 수 있어야 합니다. \n",
    "    이 클래스를 구현한 다음, 이 클래스의 인스턴스를 생성하여 **`Car`** 클래스와 비교하고 전기차 특유의 정보를 출력하세요."
   ]
  },
  {
   "cell_type": "code",
   "execution_count": null,
   "id": "00735a21-f129-40d1-988e-0544e2745f41",
   "metadata": {},
   "outputs": [],
   "source": [
    "class Car:\n",
    "    def __init__(self,brand,model,year,price):\n",
    "        self.brand=brand\n",
    "        self.model=model\n",
    "        self.year=year\n",
    "        self.price=price\n",
    "\n",
    "    def add(self,other):\n",
    "        return self.price+other.price\n",
    "\n",
    "    def compare(self,other):\n",
    "        if self.price>other.price:\n",
    "            print(f'{self} is more expansive than {other}')\n",
    "        else:\n",
    "            print(f'{self} is less expansive than {other}')\n",
    "\n",
    "\n",
    "    def equal(self,other):\n",
    "        if self.brand==other.brand:\n",
    "            print(f'brands between {self} and {other} is equal')\n",
    "        else:\n",
    "            print(f'brands between {self} and {other} is not equal')\n",
    "\n",
    "class ElecticCar(Car):\n",
    "    def __init__(self,brand,model,year,price,battery):\n",
    "        super().__init__(brand,model,year,price)\n",
    "        self.battery=battery\n",
    "\n",
    "\n",
    "    def isFull(self):\n",
    "        if self.battery=='Full':\n",
    "            return True\n",
    "    \n",
    "\n",
    "car1=Car('현대','아반떼','2021년',3000)\n",
    "car2=Car('도요타','모델 Y','2020',7000)\n",
    "car3=ElecticCar('테슬라','모델 X','2020',9000,'Full')\n",
    "\n",
    "print(car1.compare(car2))\n",
    "print(car1.equal(car2))\n",
    "car3.battery\n",
    "print(car3.isFull())"
   ]
  },
  {
   "cell_type": "code",
   "execution_count": null,
   "id": "12678d43-ec3d-43e4-b06b-a0e1922cfb95",
   "metadata": {},
   "outputs": [],
   "source": []
  },
  {
   "cell_type": "code",
   "execution_count": null,
   "id": "de9e41f3-5f14-4926-973b-bbe77265233f",
   "metadata": {},
   "outputs": [],
   "source": []
  },
  {
   "cell_type": "code",
   "execution_count": null,
   "id": "811ef33a-6db0-41c7-ba13-57ee41488f7b",
   "metadata": {},
   "outputs": [],
   "source": []
  },
  {
   "cell_type": "code",
   "execution_count": null,
   "id": "91fc191f-d9fc-43c3-9f43-f090bafb0a29",
   "metadata": {},
   "outputs": [],
   "source": []
  },
  {
   "cell_type": "code",
   "execution_count": null,
   "id": "d7cf09d5-aa85-4b1c-a9f3-ecb1069cfcfa",
   "metadata": {},
   "outputs": [],
   "source": []
  },
  {
   "cell_type": "code",
   "execution_count": null,
   "id": "c502c000-23fb-4742-b3fc-d024f718fd63",
   "metadata": {},
   "outputs": [],
   "source": []
  },
  {
   "cell_type": "code",
   "execution_count": null,
   "id": "32e3fa89-0fd2-46a5-b2bf-12bde30e8ac6",
   "metadata": {},
   "outputs": [],
   "source": []
  }
 ],
 "metadata": {
  "kernelspec": {
   "display_name": "Python 3 (ipykernel)",
   "language": "python",
   "name": "python3"
  },
  "language_info": {
   "codemirror_mode": {
    "name": "ipython",
    "version": 3
   },
   "file_extension": ".py",
   "mimetype": "text/x-python",
   "name": "python",
   "nbconvert_exporter": "python",
   "pygments_lexer": "ipython3",
   "version": "3.11.5"
  }
 },
 "nbformat": 4,
 "nbformat_minor": 5
}
